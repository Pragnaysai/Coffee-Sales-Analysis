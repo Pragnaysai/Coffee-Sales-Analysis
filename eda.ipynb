{
 "cells": [
  {
   "cell_type": "markdown",
   "id": "ba17b485",
   "metadata": {},
   "source": [
    "# Coffee Shop Sales Analysis Project"
   ]
  },
  {
   "cell_type": "markdown",
   "id": "58ddadb6",
   "metadata": {},
   "source": [
    "#### Importing Libraries"
   ]
  },
  {
   "cell_type": "code",
   "execution_count": 1,
   "id": "eb540f38",
   "metadata": {},
   "outputs": [],
   "source": [
    "import pandas as pd \n",
    "import numpy as np \n",
    "import matplotlib.pyplot as plt\n",
    "import seaborn as sns\n",
    "import plotly.express as px"
   ]
  },
  {
   "cell_type": "markdown",
   "id": "00824b53",
   "metadata": {},
   "source": [
    "#### Loading Dataset"
   ]
  },
  {
   "cell_type": "code",
   "execution_count": 2,
   "id": "6ad0e3a0",
   "metadata": {},
   "outputs": [
    {
     "data": {
      "application/vnd.microsoft.datawrangler.viewer.v0+json": {
       "columns": [
        {
         "name": "index",
         "rawType": "int64",
         "type": "integer"
        },
        {
         "name": "transaction_id",
         "rawType": "int64",
         "type": "integer"
        },
        {
         "name": "transaction_date",
         "rawType": "object",
         "type": "string"
        },
        {
         "name": "transaction_time",
         "rawType": "object",
         "type": "string"
        },
        {
         "name": "transaction_qty",
         "rawType": "int64",
         "type": "integer"
        },
        {
         "name": "store_id",
         "rawType": "int64",
         "type": "integer"
        },
        {
         "name": "store_location",
         "rawType": "object",
         "type": "string"
        },
        {
         "name": "product_id",
         "rawType": "int64",
         "type": "integer"
        },
        {
         "name": "unit_price",
         "rawType": "float64",
         "type": "float"
        },
        {
         "name": "product_category",
         "rawType": "object",
         "type": "string"
        },
        {
         "name": "product_type",
         "rawType": "object",
         "type": "string"
        },
        {
         "name": "product_detail",
         "rawType": "object",
         "type": "string"
        }
       ],
       "ref": "00582018-de5f-4e7f-b7e4-af9df9002b1d",
       "rows": [
        [
         "144964",
         "145301",
         "6/27/2023",
         "9:13:39",
         "2",
         "8",
         "Hell's Kitchen",
         "56",
         "2.55",
         "Tea",
         "Brewed Chai tea",
         "Spicy Eye Opener Chai Rg"
        ],
        [
         "116740",
         "117002",
         "6/3/2023",
         "15:23:04",
         "2",
         "3",
         "Astoria",
         "54",
         "2.5",
         "Tea",
         "Brewed Chai tea",
         "Morning Sunrise Chai Rg"
        ],
        [
         "62860",
         "63030",
         "4/10/2023",
         "12:10:18",
         "1",
         "5",
         "Lower Manhattan",
         "36",
         "3.75",
         "Coffee",
         "Premium brewed coffee",
         "Jamaican Coffee River Lg"
        ],
        [
         "61484",
         "61654",
         "4/9/2023",
         "7:52:13",
         "1",
         "5",
         "Lower Manhattan",
         "78",
         "5.63",
         "Bakery",
         "Scone",
         "Scottish Cream Scone "
        ],
        [
         "144109",
         "144446",
         "6/26/2023",
         "11:30:49",
         "2",
         "3",
         "Astoria",
         "24",
         "3.0",
         "Coffee",
         "Drip coffee",
         "Our Old Time Diner Blend Lg"
        ],
        [
         "137445",
         "137782",
         "6/20/2023",
         "16:44:10",
         "1",
         "8",
         "Hell's Kitchen",
         "79",
         "3.75",
         "Bakery",
         "Scone",
         "Jumbo Savory Scone"
        ],
        [
         "74043",
         "74213",
         "4/23/2023",
         "12:19:34",
         "1",
         "8",
         "Hell's Kitchen",
         "41",
         "4.25",
         "Coffee",
         "Barista Espresso",
         "Cappuccino Lg"
        ],
        [
         "52960",
         "53067",
         "3/28/2023",
         "17:19:52",
         "1",
         "3",
         "Astoria",
         "24",
         "3.0",
         "Coffee",
         "Drip coffee",
         "Our Old Time Diner Blend Lg"
        ],
        [
         "56827",
         "56938",
         "4/3/2023",
         "12:31:00",
         "2",
         "3",
         "Astoria",
         "61",
         "4.75",
         "Drinking Chocolate",
         "Hot chocolate",
         "Sustainably Grown Organic Lg"
        ],
        [
         "71509",
         "71679",
         "4/20/2023",
         "10:22:33",
         "2",
         "8",
         "Hell's Kitchen",
         "53",
         "3.0",
         "Tea",
         "Brewed Chai tea",
         "Traditional Blend Chai Lg"
        ]
       ],
       "shape": {
        "columns": 11,
        "rows": 10
       }
      },
      "text/html": [
       "<div>\n",
       "<style scoped>\n",
       "    .dataframe tbody tr th:only-of-type {\n",
       "        vertical-align: middle;\n",
       "    }\n",
       "\n",
       "    .dataframe tbody tr th {\n",
       "        vertical-align: top;\n",
       "    }\n",
       "\n",
       "    .dataframe thead th {\n",
       "        text-align: right;\n",
       "    }\n",
       "</style>\n",
       "<table border=\"1\" class=\"dataframe\">\n",
       "  <thead>\n",
       "    <tr style=\"text-align: right;\">\n",
       "      <th></th>\n",
       "      <th>transaction_id</th>\n",
       "      <th>transaction_date</th>\n",
       "      <th>transaction_time</th>\n",
       "      <th>transaction_qty</th>\n",
       "      <th>store_id</th>\n",
       "      <th>store_location</th>\n",
       "      <th>product_id</th>\n",
       "      <th>unit_price</th>\n",
       "      <th>product_category</th>\n",
       "      <th>product_type</th>\n",
       "      <th>product_detail</th>\n",
       "    </tr>\n",
       "  </thead>\n",
       "  <tbody>\n",
       "    <tr>\n",
       "      <th>144964</th>\n",
       "      <td>145301</td>\n",
       "      <td>6/27/2023</td>\n",
       "      <td>9:13:39</td>\n",
       "      <td>2</td>\n",
       "      <td>8</td>\n",
       "      <td>Hell's Kitchen</td>\n",
       "      <td>56</td>\n",
       "      <td>2.55</td>\n",
       "      <td>Tea</td>\n",
       "      <td>Brewed Chai tea</td>\n",
       "      <td>Spicy Eye Opener Chai Rg</td>\n",
       "    </tr>\n",
       "    <tr>\n",
       "      <th>116740</th>\n",
       "      <td>117002</td>\n",
       "      <td>6/3/2023</td>\n",
       "      <td>15:23:04</td>\n",
       "      <td>2</td>\n",
       "      <td>3</td>\n",
       "      <td>Astoria</td>\n",
       "      <td>54</td>\n",
       "      <td>2.50</td>\n",
       "      <td>Tea</td>\n",
       "      <td>Brewed Chai tea</td>\n",
       "      <td>Morning Sunrise Chai Rg</td>\n",
       "    </tr>\n",
       "    <tr>\n",
       "      <th>62860</th>\n",
       "      <td>63030</td>\n",
       "      <td>4/10/2023</td>\n",
       "      <td>12:10:18</td>\n",
       "      <td>1</td>\n",
       "      <td>5</td>\n",
       "      <td>Lower Manhattan</td>\n",
       "      <td>36</td>\n",
       "      <td>3.75</td>\n",
       "      <td>Coffee</td>\n",
       "      <td>Premium brewed coffee</td>\n",
       "      <td>Jamaican Coffee River Lg</td>\n",
       "    </tr>\n",
       "    <tr>\n",
       "      <th>61484</th>\n",
       "      <td>61654</td>\n",
       "      <td>4/9/2023</td>\n",
       "      <td>7:52:13</td>\n",
       "      <td>1</td>\n",
       "      <td>5</td>\n",
       "      <td>Lower Manhattan</td>\n",
       "      <td>78</td>\n",
       "      <td>5.63</td>\n",
       "      <td>Bakery</td>\n",
       "      <td>Scone</td>\n",
       "      <td>Scottish Cream Scone</td>\n",
       "    </tr>\n",
       "    <tr>\n",
       "      <th>144109</th>\n",
       "      <td>144446</td>\n",
       "      <td>6/26/2023</td>\n",
       "      <td>11:30:49</td>\n",
       "      <td>2</td>\n",
       "      <td>3</td>\n",
       "      <td>Astoria</td>\n",
       "      <td>24</td>\n",
       "      <td>3.00</td>\n",
       "      <td>Coffee</td>\n",
       "      <td>Drip coffee</td>\n",
       "      <td>Our Old Time Diner Blend Lg</td>\n",
       "    </tr>\n",
       "    <tr>\n",
       "      <th>137445</th>\n",
       "      <td>137782</td>\n",
       "      <td>6/20/2023</td>\n",
       "      <td>16:44:10</td>\n",
       "      <td>1</td>\n",
       "      <td>8</td>\n",
       "      <td>Hell's Kitchen</td>\n",
       "      <td>79</td>\n",
       "      <td>3.75</td>\n",
       "      <td>Bakery</td>\n",
       "      <td>Scone</td>\n",
       "      <td>Jumbo Savory Scone</td>\n",
       "    </tr>\n",
       "    <tr>\n",
       "      <th>74043</th>\n",
       "      <td>74213</td>\n",
       "      <td>4/23/2023</td>\n",
       "      <td>12:19:34</td>\n",
       "      <td>1</td>\n",
       "      <td>8</td>\n",
       "      <td>Hell's Kitchen</td>\n",
       "      <td>41</td>\n",
       "      <td>4.25</td>\n",
       "      <td>Coffee</td>\n",
       "      <td>Barista Espresso</td>\n",
       "      <td>Cappuccino Lg</td>\n",
       "    </tr>\n",
       "    <tr>\n",
       "      <th>52960</th>\n",
       "      <td>53067</td>\n",
       "      <td>3/28/2023</td>\n",
       "      <td>17:19:52</td>\n",
       "      <td>1</td>\n",
       "      <td>3</td>\n",
       "      <td>Astoria</td>\n",
       "      <td>24</td>\n",
       "      <td>3.00</td>\n",
       "      <td>Coffee</td>\n",
       "      <td>Drip coffee</td>\n",
       "      <td>Our Old Time Diner Blend Lg</td>\n",
       "    </tr>\n",
       "    <tr>\n",
       "      <th>56827</th>\n",
       "      <td>56938</td>\n",
       "      <td>4/3/2023</td>\n",
       "      <td>12:31:00</td>\n",
       "      <td>2</td>\n",
       "      <td>3</td>\n",
       "      <td>Astoria</td>\n",
       "      <td>61</td>\n",
       "      <td>4.75</td>\n",
       "      <td>Drinking Chocolate</td>\n",
       "      <td>Hot chocolate</td>\n",
       "      <td>Sustainably Grown Organic Lg</td>\n",
       "    </tr>\n",
       "    <tr>\n",
       "      <th>71509</th>\n",
       "      <td>71679</td>\n",
       "      <td>4/20/2023</td>\n",
       "      <td>10:22:33</td>\n",
       "      <td>2</td>\n",
       "      <td>8</td>\n",
       "      <td>Hell's Kitchen</td>\n",
       "      <td>53</td>\n",
       "      <td>3.00</td>\n",
       "      <td>Tea</td>\n",
       "      <td>Brewed Chai tea</td>\n",
       "      <td>Traditional Blend Chai Lg</td>\n",
       "    </tr>\n",
       "  </tbody>\n",
       "</table>\n",
       "</div>"
      ],
      "text/plain": [
       "        transaction_id transaction_date transaction_time  transaction_qty  \\\n",
       "144964          145301        6/27/2023          9:13:39                2   \n",
       "116740          117002         6/3/2023         15:23:04                2   \n",
       "62860            63030        4/10/2023         12:10:18                1   \n",
       "61484            61654         4/9/2023          7:52:13                1   \n",
       "144109          144446        6/26/2023         11:30:49                2   \n",
       "137445          137782        6/20/2023         16:44:10                1   \n",
       "74043            74213        4/23/2023         12:19:34                1   \n",
       "52960            53067        3/28/2023         17:19:52                1   \n",
       "56827            56938         4/3/2023         12:31:00                2   \n",
       "71509            71679        4/20/2023         10:22:33                2   \n",
       "\n",
       "        store_id   store_location  product_id  unit_price    product_category  \\\n",
       "144964         8   Hell's Kitchen          56        2.55                 Tea   \n",
       "116740         3          Astoria          54        2.50                 Tea   \n",
       "62860          5  Lower Manhattan          36        3.75              Coffee   \n",
       "61484          5  Lower Manhattan          78        5.63              Bakery   \n",
       "144109         3          Astoria          24        3.00              Coffee   \n",
       "137445         8   Hell's Kitchen          79        3.75              Bakery   \n",
       "74043          8   Hell's Kitchen          41        4.25              Coffee   \n",
       "52960          3          Astoria          24        3.00              Coffee   \n",
       "56827          3          Astoria          61        4.75  Drinking Chocolate   \n",
       "71509          8   Hell's Kitchen          53        3.00                 Tea   \n",
       "\n",
       "                 product_type                product_detail  \n",
       "144964        Brewed Chai tea      Spicy Eye Opener Chai Rg  \n",
       "116740        Brewed Chai tea       Morning Sunrise Chai Rg  \n",
       "62860   Premium brewed coffee      Jamaican Coffee River Lg  \n",
       "61484                   Scone         Scottish Cream Scone   \n",
       "144109            Drip coffee   Our Old Time Diner Blend Lg  \n",
       "137445                  Scone            Jumbo Savory Scone  \n",
       "74043        Barista Espresso                 Cappuccino Lg  \n",
       "52960             Drip coffee   Our Old Time Diner Blend Lg  \n",
       "56827           Hot chocolate  Sustainably Grown Organic Lg  \n",
       "71509         Brewed Chai tea     Traditional Blend Chai Lg  "
      ]
     },
     "execution_count": 2,
     "metadata": {},
     "output_type": "execute_result"
    }
   ],
   "source": [
    "df=pd.read_csv('coffee_shop_sales.csv')\n",
    "df.sample(10)"
   ]
  },
  {
   "cell_type": "code",
   "execution_count": 3,
   "id": "cf06fd0e",
   "metadata": {},
   "outputs": [
    {
     "name": "stdout",
     "output_type": "stream",
     "text": [
      "<class 'pandas.core.frame.DataFrame'>\n",
      "RangeIndex: 149116 entries, 0 to 149115\n",
      "Data columns (total 11 columns):\n",
      " #   Column            Non-Null Count   Dtype  \n",
      "---  ------            --------------   -----  \n",
      " 0   transaction_id    149116 non-null  int64  \n",
      " 1   transaction_date  149116 non-null  object \n",
      " 2   transaction_time  149116 non-null  object \n",
      " 3   transaction_qty   149116 non-null  int64  \n",
      " 4   store_id          149116 non-null  int64  \n",
      " 5   store_location    149116 non-null  object \n",
      " 6   product_id        149116 non-null  int64  \n",
      " 7   unit_price        149116 non-null  float64\n",
      " 8   product_category  149116 non-null  object \n",
      " 9   product_type      149116 non-null  object \n",
      " 10  product_detail    149116 non-null  object \n",
      "dtypes: float64(1), int64(4), object(6)\n",
      "memory usage: 12.5+ MB\n"
     ]
    }
   ],
   "source": [
    "df.info()"
   ]
  },
  {
   "cell_type": "code",
   "execution_count": 4,
   "id": "a6b5bcbf",
   "metadata": {},
   "outputs": [
    {
     "data": {
      "application/vnd.microsoft.datawrangler.viewer.v0+json": {
       "columns": [
        {
         "name": "index",
         "rawType": "object",
         "type": "string"
        },
        {
         "name": "transaction_id",
         "rawType": "float64",
         "type": "float"
        },
        {
         "name": "transaction_qty",
         "rawType": "float64",
         "type": "float"
        },
        {
         "name": "store_id",
         "rawType": "float64",
         "type": "float"
        },
        {
         "name": "product_id",
         "rawType": "float64",
         "type": "float"
        },
        {
         "name": "unit_price",
         "rawType": "float64",
         "type": "float"
        }
       ],
       "ref": "8912f0b7-34ea-4e5e-9589-59cb3d1028f8",
       "rows": [
        [
         "count",
         "149116.0",
         "149116.0",
         "149116.0",
         "149116.0",
         "149116.0"
        ],
        [
         "mean",
         "74737.37187156308",
         "1.438276241315486",
         "5.342062555326055",
         "47.91860699053086",
         "3.382219413074385"
        ],
        [
         "std",
         "43153.60001591789",
         "0.542508764737336",
         "2.0742405915711952",
         "17.930020247641693",
         "2.6587226166604028"
        ],
        [
         "min",
         "1.0",
         "1.0",
         "3.0",
         "1.0",
         "0.8"
        ],
        [
         "25%",
         "37335.75",
         "1.0",
         "3.0",
         "33.0",
         "2.5"
        ],
        [
         "50%",
         "74727.5",
         "1.0",
         "5.0",
         "47.0",
         "3.0"
        ],
        [
         "75%",
         "112094.25",
         "2.0",
         "8.0",
         "60.0",
         "3.75"
        ],
        [
         "max",
         "149456.0",
         "8.0",
         "8.0",
         "87.0",
         "45.0"
        ]
       ],
       "shape": {
        "columns": 5,
        "rows": 8
       }
      },
      "text/html": [
       "<div>\n",
       "<style scoped>\n",
       "    .dataframe tbody tr th:only-of-type {\n",
       "        vertical-align: middle;\n",
       "    }\n",
       "\n",
       "    .dataframe tbody tr th {\n",
       "        vertical-align: top;\n",
       "    }\n",
       "\n",
       "    .dataframe thead th {\n",
       "        text-align: right;\n",
       "    }\n",
       "</style>\n",
       "<table border=\"1\" class=\"dataframe\">\n",
       "  <thead>\n",
       "    <tr style=\"text-align: right;\">\n",
       "      <th></th>\n",
       "      <th>transaction_id</th>\n",
       "      <th>transaction_qty</th>\n",
       "      <th>store_id</th>\n",
       "      <th>product_id</th>\n",
       "      <th>unit_price</th>\n",
       "    </tr>\n",
       "  </thead>\n",
       "  <tbody>\n",
       "    <tr>\n",
       "      <th>count</th>\n",
       "      <td>149116.000000</td>\n",
       "      <td>149116.000000</td>\n",
       "      <td>149116.000000</td>\n",
       "      <td>149116.000000</td>\n",
       "      <td>149116.000000</td>\n",
       "    </tr>\n",
       "    <tr>\n",
       "      <th>mean</th>\n",
       "      <td>74737.371872</td>\n",
       "      <td>1.438276</td>\n",
       "      <td>5.342063</td>\n",
       "      <td>47.918607</td>\n",
       "      <td>3.382219</td>\n",
       "    </tr>\n",
       "    <tr>\n",
       "      <th>std</th>\n",
       "      <td>43153.600016</td>\n",
       "      <td>0.542509</td>\n",
       "      <td>2.074241</td>\n",
       "      <td>17.930020</td>\n",
       "      <td>2.658723</td>\n",
       "    </tr>\n",
       "    <tr>\n",
       "      <th>min</th>\n",
       "      <td>1.000000</td>\n",
       "      <td>1.000000</td>\n",
       "      <td>3.000000</td>\n",
       "      <td>1.000000</td>\n",
       "      <td>0.800000</td>\n",
       "    </tr>\n",
       "    <tr>\n",
       "      <th>25%</th>\n",
       "      <td>37335.750000</td>\n",
       "      <td>1.000000</td>\n",
       "      <td>3.000000</td>\n",
       "      <td>33.000000</td>\n",
       "      <td>2.500000</td>\n",
       "    </tr>\n",
       "    <tr>\n",
       "      <th>50%</th>\n",
       "      <td>74727.500000</td>\n",
       "      <td>1.000000</td>\n",
       "      <td>5.000000</td>\n",
       "      <td>47.000000</td>\n",
       "      <td>3.000000</td>\n",
       "    </tr>\n",
       "    <tr>\n",
       "      <th>75%</th>\n",
       "      <td>112094.250000</td>\n",
       "      <td>2.000000</td>\n",
       "      <td>8.000000</td>\n",
       "      <td>60.000000</td>\n",
       "      <td>3.750000</td>\n",
       "    </tr>\n",
       "    <tr>\n",
       "      <th>max</th>\n",
       "      <td>149456.000000</td>\n",
       "      <td>8.000000</td>\n",
       "      <td>8.000000</td>\n",
       "      <td>87.000000</td>\n",
       "      <td>45.000000</td>\n",
       "    </tr>\n",
       "  </tbody>\n",
       "</table>\n",
       "</div>"
      ],
      "text/plain": [
       "       transaction_id  transaction_qty       store_id     product_id  \\\n",
       "count   149116.000000    149116.000000  149116.000000  149116.000000   \n",
       "mean     74737.371872         1.438276       5.342063      47.918607   \n",
       "std      43153.600016         0.542509       2.074241      17.930020   \n",
       "min          1.000000         1.000000       3.000000       1.000000   \n",
       "25%      37335.750000         1.000000       3.000000      33.000000   \n",
       "50%      74727.500000         1.000000       5.000000      47.000000   \n",
       "75%     112094.250000         2.000000       8.000000      60.000000   \n",
       "max     149456.000000         8.000000       8.000000      87.000000   \n",
       "\n",
       "          unit_price  \n",
       "count  149116.000000  \n",
       "mean        3.382219  \n",
       "std         2.658723  \n",
       "min         0.800000  \n",
       "25%         2.500000  \n",
       "50%         3.000000  \n",
       "75%         3.750000  \n",
       "max        45.000000  "
      ]
     },
     "execution_count": 4,
     "metadata": {},
     "output_type": "execute_result"
    }
   ],
   "source": [
    "df.describe()"
   ]
  },
  {
   "cell_type": "code",
   "execution_count": 5,
   "id": "5d97005e",
   "metadata": {},
   "outputs": [
    {
     "data": {
      "application/vnd.microsoft.datawrangler.viewer.v0+json": {
       "columns": [
        {
         "name": "index",
         "rawType": "object",
         "type": "string"
        },
        {
         "name": "0",
         "rawType": "int64",
         "type": "integer"
        }
       ],
       "ref": "4c50bd1b-84e4-4dc8-a1f8-f95daf8c1d03",
       "rows": [
        [
         "transaction_id",
         "0"
        ],
        [
         "transaction_date",
         "0"
        ],
        [
         "transaction_time",
         "0"
        ],
        [
         "transaction_qty",
         "0"
        ],
        [
         "store_id",
         "0"
        ],
        [
         "store_location",
         "0"
        ],
        [
         "product_id",
         "0"
        ],
        [
         "unit_price",
         "0"
        ],
        [
         "product_category",
         "0"
        ],
        [
         "product_type",
         "0"
        ],
        [
         "product_detail",
         "0"
        ]
       ],
       "shape": {
        "columns": 1,
        "rows": 11
       }
      },
      "text/plain": [
       "transaction_id      0\n",
       "transaction_date    0\n",
       "transaction_time    0\n",
       "transaction_qty     0\n",
       "store_id            0\n",
       "store_location      0\n",
       "product_id          0\n",
       "unit_price          0\n",
       "product_category    0\n",
       "product_type        0\n",
       "product_detail      0\n",
       "dtype: int64"
      ]
     },
     "execution_count": 5,
     "metadata": {},
     "output_type": "execute_result"
    }
   ],
   "source": [
    "df.isnull().sum()"
   ]
  },
  {
   "cell_type": "markdown",
   "id": "2733e985",
   "metadata": {},
   "source": [
    "### Feature Engineering"
   ]
  },
  {
   "cell_type": "code",
   "execution_count": 6,
   "id": "bc8199d6",
   "metadata": {},
   "outputs": [],
   "source": [
    "# Convert date and time columns to a single datetime object\n",
    "df['transaction_datetime'] = pd.to_datetime(df['transaction_date'] + ' ' + df['transaction_time'], \n",
    "                                            format='%m/%d/%Y %H:%M:%S')"
   ]
  },
  {
   "cell_type": "code",
   "execution_count": null,
   "id": "024f2c6d",
   "metadata": {},
   "outputs": [],
   "source": [
    "# Calculate sales\n",
    "df['sales']=df['transaction_qty']*df['unit_price']"
   ]
  },
  {
   "cell_type": "code",
   "execution_count": 9,
   "id": "1bd901d0",
   "metadata": {},
   "outputs": [],
   "source": [
    "# Extract time-based features for analysis\n",
    "df['month_num']=df['transaction_datetime'].dt.month\n",
    "df['month_name']=df['transaction_datetime'].dt.strftime('%B')\n",
    "df['day_of_week']=df['transaction_datetime'].dt.day_name()\n",
    "df['day_num']=df['transaction_datetime'].dt.day\n",
    "df['hour']=df['transaction_datetime'].dt.hour"
   ]
  },
  {
   "cell_type": "code",
   "execution_count": 10,
   "id": "cd0a260f",
   "metadata": {},
   "outputs": [],
   "source": [
    "# Segment into weekday vs. weekend\n",
    "df['day_type']=df['day_of_week'].apply(lambda x: 'Weekend' if x in ['Saturday', 'Sunday'] else 'Weekday')"
   ]
  },
  {
   "cell_type": "code",
   "execution_count": 11,
   "id": "c9d75481",
   "metadata": {},
   "outputs": [
    {
     "name": "stdout",
     "output_type": "stream",
     "text": [
      "\n",
      "Data preparation complete. New features created.\n",
      "  transaction_datetime  sales month_name day_of_week  hour day_type\n",
      "0  2023-01-01 07:06:11    6.0    January      Sunday     7  Weekend\n",
      "1  2023-01-01 07:08:56    6.2    January      Sunday     7  Weekend\n",
      "2  2023-01-01 07:14:04    9.0    January      Sunday     7  Weekend\n",
      "3  2023-01-01 07:20:24    2.0    January      Sunday     7  Weekend\n",
      "4  2023-01-01 07:22:41    6.2    January      Sunday     7  Weekend\n"
     ]
    }
   ],
   "source": [
    "print(\"\\nData preparation complete. New features created.\")\n",
    "print(df[['transaction_datetime','sales','month_name','day_of_week','hour','day_type']].head())"
   ]
  },
  {
   "cell_type": "markdown",
   "id": "4a08238a",
   "metadata": {},
   "source": [
    "### Total Sales, Orders, and Quantity Analysis (Monthly)"
   ]
  },
  {
   "cell_type": "code",
   "execution_count": 12,
   "id": "dc6e49cc",
   "metadata": {},
   "outputs": [],
   "source": [
    "# Grouping monthly to calculate metrics\n",
    "monthly_analysis=df.groupby(['month_num','month_name']).agg(\n",
    "    total_sales=('sales','sum'),\n",
    "    total_orders=('transaction_id','nunique'), # Use nunique for distinct orders\n",
    "    total_quantity_sold=('transaction_qty','sum')\n",
    ").reset_index().sort_values('month_num')"
   ]
  },
  {
   "cell_type": "code",
   "execution_count": 14,
   "id": "ddaeda0c",
   "metadata": {},
   "outputs": [],
   "source": [
    "# Calculate Month-on-Month (MoM) change\n",
    "monthly_analysis['sales_change']=monthly_analysis['total_sales'].pct_change()*100\n",
    "monthly_analysis['orders_change']=monthly_analysis['total_orders'].pct_change()*100\n",
    "monthly_analysis['quantity_change']=monthly_analysis['total_quantity_sold'].pct_change()*100"
   ]
  },
  {
   "cell_type": "code",
   "execution_count": 16,
   "id": "50f4e9c0",
   "metadata": {},
   "outputs": [],
   "source": [
    "# Calculate the difference from the previous month\n",
    "monthly_analysis['sales_diff']=monthly_analysis['total_sales'].diff()\n",
    "monthly_analysis['orders_diff']=monthly_analysis['total_orders'].diff()\n",
    "monthly_analysis['quantity_diff']=monthly_analysis['total_quantity_sold'].diff()"
   ]
  },
  {
   "cell_type": "code",
   "execution_count": 17,
   "id": "d92c3375",
   "metadata": {},
   "outputs": [
    {
     "name": "stdout",
     "output_type": "stream",
     "text": [
      "   month_num month_name  total_sales  total_orders  total_quantity_sold  sales_change  orders_change  quantity_change  sales_mom_diff  orders_mom_diff  quantity_mom_diff  sales_diff  orders_diff  quantity_diff\n",
      "0          1    January     81677.74         17314                24870           NaN            NaN              NaN             NaN              NaN                NaN         NaN          NaN            NaN\n",
      "1          2   February     76145.19         16359                23550     -6.773633      -5.515768        -5.307600        -5532.55           -955.0            -1320.0    -5532.55       -955.0        -1320.0\n",
      "2          3      March     98834.68         21229                30406     29.797667      29.769546        29.112527        22689.49           4870.0             6856.0    22689.49       4870.0         6856.0\n",
      "3          4      April    118941.08         25335                36469     20.343466      19.341467        19.940143        20106.40           4106.0             6063.0    20106.40       4106.0         6063.0\n",
      "4          5        May    156727.76         33527                48233     31.769242      32.334715        32.257534        37786.68           8192.0            11764.0    37786.68       8192.0        11764.0\n",
      "5          6       June    166485.88         35352                50942      6.226159       5.443374         5.616487         9758.12           1825.0             2709.0     9758.12       1825.0         2709.0\n"
     ]
    }
   ],
   "source": [
    "# Display the results table\n",
    "print(monthly_analysis.to_string())"
   ]
  },
  {
   "cell_type": "markdown",
   "id": "245730c0",
   "metadata": {},
   "source": [
    "### Important Visual Charts"
   ]
  },
  {
   "cell_type": "markdown",
   "id": "cad27549",
   "metadata": {},
   "source": [
    "#### Sales Analysis by Weekdays and Weekends"
   ]
  },
  {
   "cell_type": "code",
   "execution_count": 34,
   "id": "825e2ee4",
   "metadata": {},
   "outputs": [
    {
     "data": {
      "image/png": "[encoded data removed]",
      "text/plain": [
       "<Figure size 800x600 with 1 Axes>"
      ]
     },
     "metadata": {},
     "output_type": "display_data"
    }
   ],
   "source": [
    "sales = df.groupby('day_type')['sales'].sum().reset_index()\n",
    "\n",
    "plt.figure(figsize=(8, 6))\n",
    "sns.barplot(\n",
    "    x='day_type',\n",
    "    y='sales',\n",
    "    data=sales,\n",
    "    palette=['#4c72b0', '#dd8452'],\n",
    "    hue='day_type',\n",
    "    legend=False\n",
    ")\n",
    "plt.title('Total Sales: Weekdays vs. Weekends', fontsize=16)\n",
    "plt.xlabel('Day Type', fontsize=12)\n",
    "plt.ylabel('Total Sales ($)', fontsize=12)\n",
    "plt.ticklabel_format(style='plain', axis='y') # Prevent scientific notation\n",
    "plt.show()"
   ]
  },
  {
   "cell_type": "markdown",
   "id": "6d02cc78",
   "metadata": {},
   "source": [
    "#### Sales Analysis by Store Location"
   ]
  },
  {
   "cell_type": "code",
   "execution_count": 33,
   "id": "538a9970",
   "metadata": {},
   "outputs": [
    {
     "data": {
      "image/png": "[encoded data removed]",
      "text/plain": [
       "<Figure size 1000x600 with 1 Axes>"
      ]
     },
     "metadata": {},
     "output_type": "display_data"
    }
   ],
   "source": [
    "store_sales=df.groupby('store_location')['sales'].sum().sort_values(ascending=False).reset_index()\n",
    "\n",
    "plt.figure(figsize=(10, 6))\n",
    "sns.barplot(\n",
    "    x='sales',\n",
    "    y='store_location',\n",
    "    data=store_sales,\n",
    "    palette='viridis',\n",
    "    orient='h',\n",
    "    hue='sales',\n",
    "    legend=False\n",
    ")\n",
    "plt.title('Total Sales by Store Location', fontsize=16)\n",
    "plt.xlabel('Total Sales ($)', fontsize=12)\n",
    "plt.ylabel('Store Location', fontsize=12)\n",
    "plt.show()"
   ]
  },
  {
   "cell_type": "markdown",
   "id": "09f70d8e",
   "metadata": {},
   "source": [
    "#### Daily Sales Analysis"
   ]
  },
  {
   "cell_type": "code",
   "execution_count": 22,
   "id": "f7faa950",
   "metadata": {},
   "outputs": [
    {
     "name": "stdout",
     "output_type": "stream",
     "text": [
      "\n",
      "--- Generating Daily Sales Analysis with Average Line for June ---\n"
     ]
    },
    {
     "data": {
      "image/png": "[encoded data removed]",
      "text/plain": [
       "<Figure size 1200x600 with 1 Axes>"
      ]
     },
     "metadata": {},
     "output_type": "display_data"
    }
   ],
   "source": [
    "print(\"\\n--- Generating Daily Sales Analysis with Average Line for June ---\")\n",
    "daily_sales_june = june_data.groupby('day_num')['sales'].sum().reset_index()\n",
    "average_sales_june = daily_sales_june['sales'].mean()\n",
    "\n",
    "plt.figure(figsize=(12, 6))\n",
    "plt.plot(daily_sales_june['day_num'], daily_sales_june['sales'], marker='o', linestyle='-', label='Daily Sales')\n",
    "plt.axhline(y=average_sales_june, color='r', linestyle='--', label=f'Average Sales: ${average_sales_june:,.2f}')\n",
    "\n",
    "# Highlight days above/below average\n",
    "plt.fill_between(\n",
    "    daily_sales_june['day_num'],\n",
    "    daily_sales_june['sales'],\n",
    "    average_sales_june,\n",
    "    where=(daily_sales_june['sales'] > average_sales_june),\n",
    "    interpolate=True,\n",
    "    color='green',\n",
    "    alpha=0.25,\n",
    "    label='Above Average'\n",
    ")\n",
    "plt.fill_between(\n",
    "    daily_sales_june['day_num'],\n",
    "    daily_sales_june['sales'],\n",
    "    average_sales_june,\n",
    "    where=(daily_sales_june['sales'] <= average_sales_june),\n",
    "    interpolate=True,\n",
    "    color='red',\n",
    "    alpha=0.25,\n",
    "    label='Below Average'\n",
    ")\n",
    "\n",
    "plt.title('Daily Sales for June with Average Line', fontsize=16)\n",
    "plt.xlabel('Day of June', fontsize=12)\n",
    "plt.ylabel('Total Sales ($)', fontsize=12)\n",
    "plt.xticks(daily_sales_june['day_num'])\n",
    "plt.legend()\n",
    "plt.grid(True)\n",
    "plt.show()\n"
   ]
  },
  {
   "cell_type": "code",
   "execution_count": 26,
   "id": "72f3adfe",
   "metadata": {},
   "outputs": [
    {
     "name": "stdout",
     "output_type": "stream",
     "text": [
      "\n",
      "MoM Sales Difference (June vs. May) by Store:\n",
      "    store_location  mom_diff\n",
      "0          Astoria   2654.35\n",
      "1   Hell's Kitchen   4358.15\n",
      "2  Lower Manhattan   2745.62\n"
     ]
    }
   ],
   "source": [
    "# Example of MoM difference for a selected month (e.g., June vs May)\n",
    "sales_may=df[df['month_name']=='May'].groupby('store_location')['sales'].sum()\n",
    "sales_june=df[df['month_name']=='June'].groupby('store_location')['sales'].sum()\n",
    "mom_diff_stores=(sales_june - sales_may).reset_index(name='mom_diff')\n",
    "print(\"\\nMoM Sales Difference (June vs. May) by Store:\")\n",
    "print(mom_diff_stores)"
   ]
  },
  {
   "cell_type": "markdown",
   "id": "bd4a6107",
   "metadata": {},
   "source": [
    "#### Sales Analysis by Product Category"
   ]
  },
  {
   "cell_type": "code",
   "execution_count": 27,
   "id": "9fa1f41b",
   "metadata": {},
   "outputs": [
    {
     "name": "stdout",
     "output_type": "stream",
     "text": [
      "\n",
      "--- Generating Sales Analysis by Product Category ---\n"
     ]
    },
    {
     "data": {
      "application/vnd.plotly.v1+json": {
       "config": {
        "plotlyServerURL": "https://plot.ly"
       },
       "data": [
        {
         "domain": {
          "x": [
           0,
           1
          ],
          "y": [
           0,
           1
          ]
         },
         "hole": 0.3,
         "hovertemplate": "product_category=%{label}<br>sales=%{value}<extra></extra>",
         "labels": [
          "Bakery",
          "Branded",
          "Coffee",
          "Coffee beans",
          "Drinking Chocolate",
          "Flavours",
          "Loose Tea",
          "Packaged Chocolate",
          "Tea"
         ],
         "legendgroup": "",
         "name": "",
         "showlegend": true,
         "textinfo": "percent+label",
         "textposition": "inside",
         "type": "pie",
         "values": [
          82315.64,
          13607,
          269952.45,
          40085.25,
          72416,
          8408.800000000001,
          11213.599999999999,
          4407.64,
          196405.95
         ]
        }
       ],
       "layout": {
        "legend": {
         "tracegroupgap": 0
        },
        "piecolorway": [
         "rgb(103,0,31)",
         "rgb(178,24,43)",
         "rgb(214,96,77)",
         "rgb(244,165,130)",
         "rgb(253,219,199)",
         "rgb(247,247,247)",
         "rgb(209,229,240)",
         "rgb(146,197,222)",
         "rgb(67,147,195)",
         "rgb(33,102,172)",
         "rgb(5,48,97)"
        ],
        "showlegend": false,
        "template": {
         "data": {
          "bar": [
           {
            "error_x": {
             "color": "#2a3f5f"
            },
            "error_y": {
             "color": "#2a3f5f"
            },
            "marker": {
             "line": {
              "color": "#E5ECF6",
              "width": 0.5
             },
             "pattern": {
              "fillmode": "overlay",
              "size": 10,
              "solidity": 0.2
             }
            },
            "type": "bar"
           }
          ],
          "barpolar": [
           {
            "marker": {
             "line": {
              "color": "#E5ECF6",
              "width": 0.5
             },
             "pattern": {
              "fillmode": "overlay",
              "size": 10,
              "solidity": 0.2
             }
            },
            "type": "barpolar"
           }
          ],
          "carpet": [
           {
            "aaxis": {
             "endlinecolor": "#2a3f5f",
             "gridcolor": "white",
             "linecolor": "white",
             "minorgridcolor": "white",
             "startlinecolor": "#2a3f5f"
            },
            "baxis": {
             "endlinecolor": "#2a3f5f",
             "gridcolor": "white",
             "linecolor": "white",
             "minorgridcolor": "white",
             "startlinecolor": "#2a3f5f"
            },
            "type": "carpet"
           }
          ],
          "choropleth": [
           {
            "colorbar": {
             "outlinewidth": 0,
             "ticks": ""
            },
            "type": "choropleth"
           }
          ],
          "contour": [
           {
            "colorbar": {
             "outlinewidth": 0,
             "ticks": ""
            },
            "colorscale": [
             [
              0,
              "#0d0887"
             ],
             [
              0.1111111111111111,
              "#46039f"
             ],
             [
              0.2222222222222222,
              "#7201a8"
             ],
             [
              0.3333333333333333,
              "#9c179e"
             ],
             [
              0.4444444444444444,
              "#bd3786"
             ],
             [
              0.5555555555555556,
              "#d8576b"
             ],
             [
              0.6666666666666666,
              "#ed7953"
             ],
             [
              0.7777777777777778,
              "#fb9f3a"
             ],
             [
              0.8888888888888888,
              "#fdca26"
             ],
             [
              1,
              "#f0f921"
             ]
            ],
            "type": "contour"
           }
          ],
          "contourcarpet": [
           {
            "colorbar": {
             "outlinewidth": 0,
             "ticks": ""
            },
            "type": "contourcarpet"
           }
          ],
          "heatmap": [
           {
            "colorbar": {
             "outlinewidth": 0,
             "ticks": ""
            },
            "colorscale": [
             [
              0,
              "#0d0887"
             ],
             [
              0.1111111111111111,
              "#46039f"
             ],
             [
              0.2222222222222222,
              "#7201a8"
             ],
             [
              0.3333333333333333,
              "#9c179e"
             ],
             [
              0.4444444444444444,
              "#bd3786"
             ],
             [
              0.5555555555555556,
              "#d8576b"
             ],
             [
              0.6666666666666666,
              "#ed7953"
             ],
             [
              0.7777777777777778,
              "#fb9f3a"
             ],
             [
              0.8888888888888888,
              "#fdca26"
             ],
             [
              1,
              "#f0f921"
             ]
            ],
            "type": "heatmap"
           }
          ],
          "heatmapgl": [
           {
            "colorbar": {
             "outlinewidth": 0,
             "ticks": ""
            },
            "colorscale": [
             [
              0,
              "#0d0887"
             ],
             [
              0.1111111111111111,
              "#46039f"
             ],
             [
              0.2222222222222222,
              "#7201a8"
             ],
             [
              0.3333333333333333,
              "#9c179e"
             ],
             [
              0.4444444444444444,
              "#bd3786"
             ],
             [
              0.5555555555555556,
              "#d8576b"
             ],
             [
              0.6666666666666666,
              "#ed7953"
             ],
             [
              0.7777777777777778,
              "#fb9f3a"
             ],
             [
              0.8888888888888888,
              "#fdca26"
             ],
             [
              1,
              "#f0f921"
             ]
            ],
            "type": "heatmapgl"
           }
          ],
          "histogram": [
           {
            "marker": {
             "pattern": {
              "fillmode": "overlay",
              "size": 10,
              "solidity": 0.2
             }
            },
            "type": "histogram"
           }
          ],
          "histogram2d": [
           {
            "colorbar": {
             "outlinewidth": 0,
             "ticks": ""
            },
            "colorscale": [
             [
              0,
              "#0d0887"
             ],
             [
              0.1111111111111111,
              "#46039f"
             ],
             [
              0.2222222222222222,
              "#7201a8"
             ],
             [
              0.3333333333333333,
              "#9c179e"
             ],
             [
              0.4444444444444444,
              "#bd3786"
             ],
             [
              0.5555555555555556,
              "#d8576b"
             ],
             [
              0.6666666666666666,
              "#ed7953"
             ],
             [
              0.7777777777777778,
              "#fb9f3a"
             ],
             [
              0.8888888888888888,
              "#fdca26"
             ],
             [
              1,
              "#f0f921"
             ]
            ],
            "type": "histogram2d"
           }
          ],
          "histogram2dcontour": [
           {
            "colorbar": {
             "outlinewidth": 0,
             "ticks": ""
            },
            "colorscale": [
             [
              0,
              "#0d0887"
             ],
             [
              0.1111111111111111,
              "#46039f"
             ],
             [
              0.2222222222222222,
              "#7201a8"
             ],
             [
              0.3333333333333333,
              "#9c179e"
             ],
             [
              0.4444444444444444,
              "#bd3786"
             ],
             [
              0.5555555555555556,
              "#d8576b"
             ],
             [
              0.6666666666666666,
              "#ed7953"
             ],
             [
              0.7777777777777778,
              "#fb9f3a"
             ],
             [
              0.8888888888888888,
              "#fdca26"
             ],
             [
              1,
              "#f0f921"
             ]
            ],
            "type": "histogram2dcontour"
           }
          ],
          "mesh3d": [
           {
            "colorbar": {
             "outlinewidth": 0,
             "ticks": ""
            },
            "type": "mesh3d"
           }
          ],
          "parcoords": [
           {
            "line": {
             "colorbar": {
              "outlinewidth": 0,
              "ticks": ""
             }
            },
            "type": "parcoords"
           }
          ],
          "pie": [
           {
            "automargin": true,
            "type": "pie"
           }
          ],
          "scatter": [
           {
            "fillpattern": {
             "fillmode": "overlay",
             "size": 10,
             "solidity": 0.2
            },
            "type": "scatter"
           }
          ],
          "scatter3d": [
           {
            "line": {
             "colorbar": {
              "outlinewidth": 0,
              "ticks": ""
             }
            },
            "marker": {
             "colorbar": {
              "outlinewidth": 0,
              "ticks": ""
             }
            },
            "type": "scatter3d"
           }
          ],
          "scattercarpet": [
           {
            "marker": {
             "colorbar": {
              "outlinewidth": 0,
              "ticks": ""
             }
            },
            "type": "scattercarpet"
           }
          ],
          "scattergeo": [
           {
            "marker": {
             "colorbar": {
              "outlinewidth": 0,
              "ticks": ""
             }
            },
            "type": "scattergeo"
           }
          ],
          "scattergl": [
           {
            "marker": {
             "colorbar": {
              "outlinewidth": 0,
              "ticks": ""
             }
            },
            "type": "scattergl"
           }
          ],
          "scattermapbox": [
           {
            "marker": {
             "colorbar": {
              "outlinewidth": 0,
              "ticks": ""
             }
            },
            "type": "scattermapbox"
           }
          ],
          "scatterpolar": [
           {
            "marker": {
             "colorbar": {
              "outlinewidth": 0,
              "ticks": ""
             }
            },
            "type": "scatterpolar"
           }
          ],
          "scatterpolargl": [
           {
            "marker": {
             "colorbar": {
              "outlinewidth": 0,
              "ticks": ""
             }
            },
            "type": "scatterpolargl"
           }
          ],
          "scatterternary": [
           {
            "marker": {
             "colorbar": {
              "outlinewidth": 0,
              "ticks": ""
             }
            },
            "type": "scatterternary"
           }
          ],
          "surface": [
           {
            "colorbar": {
             "outlinewidth": 0,
             "ticks": ""
            },
            "colorscale": [
             [
              0,
              "#0d0887"
             ],
             [
              0.1111111111111111,
              "#46039f"
             ],
             [
              0.2222222222222222,
              "#7201a8"
             ],
             [
              0.3333333333333333,
              "#9c179e"
             ],
             [
              0.4444444444444444,
              "#bd3786"
             ],
             [
              0.5555555555555556,
              "#d8576b"
             ],
             [
              0.6666666666666666,
              "#ed7953"
             ],
             [
              0.7777777777777778,
              "#fb9f3a"
             ],
             [
              0.8888888888888888,
              "#fdca26"
             ],
             [
              1,
              "#f0f921"
             ]
            ],
            "type": "surface"
           }
          ],
          "table": [
           {
            "cells": {
             "fill": {
              "color": "#EBF0F8"
             },
             "line": {
              "color": "white"
             }
            },
            "header": {
             "fill": {
              "color": "#C8D4E3"
             },
             "line": {
              "color": "white"
             }
            },
            "type": "table"
           }
          ]
         },
         "layout": {
          "annotationdefaults": {
           "arrowcolor": "#2a3f5f",
           "arrowhead": 0,
           "arrowwidth": 1
          },
          "autotypenumbers": "strict",
          "coloraxis": {
           "colorbar": {
            "outlinewidth": 0,
            "ticks": ""
           }
          },
          "colorscale": {
           "diverging": [
            [
             0,
             "#8e0152"
            ],
            [
             0.1,
             "#c51b7d"
            ],
            [
             0.2,
             "#de77ae"
            ],
            [
             0.3,
             "#f1b6da"
            ],
            [
             0.4,
             "#fde0ef"
            ],
            [
             0.5,
             "#f7f7f7"
            ],
            [
             0.6,
             "#e6f5d0"
            ],
            [
             0.7,
             "#b8e186"
            ],
            [
             0.8,
             "#7fbc41"
            ],
            [
             0.9,
             "#4d9221"
            ],
            [
             1,
             "#276419"
            ]
           ],
           "sequential": [
            [
             0,
             "#0d0887"
            ],
            [
             0.1111111111111111,
             "#46039f"
            ],
            [
             0.2222222222222222,
             "#7201a8"
            ],
            [
             0.3333333333333333,
             "#9c179e"
            ],
            [
             0.4444444444444444,
             "#bd3786"
            ],
            [
             0.5555555555555556,
             "#d8576b"
            ],
            [
             0.6666666666666666,
             "#ed7953"
            ],
            [
             0.7777777777777778,
             "#fb9f3a"
            ],
            [
             0.8888888888888888,
             "#fdca26"
            ],
            [
             1,
             "#f0f921"
            ]
           ],
           "sequentialminus": [
            [
             0,
             "#0d0887"
            ],
            [
             0.1111111111111111,
             "#46039f"
            ],
            [
             0.2222222222222222,
             "#7201a8"
            ],
            [
             0.3333333333333333,
             "#9c179e"
            ],
            [
             0.4444444444444444,
             "#bd3786"
            ],
            [
             0.5555555555555556,
             "#d8576b"
            ],
            [
             0.6666666666666666,
             "#ed7953"
            ],
            [
             0.7777777777777778,
             "#fb9f3a"
            ],
            [
             0.8888888888888888,
             "#fdca26"
            ],
            [
             1,
             "#f0f921"
            ]
           ]
          },
          "colorway": [
           "#636efa",
           "#EF553B",
           "#00cc96",
           "#ab63fa",
           "#FFA15A",
           "#19d3f3",
           "#FF6692",
           "#B6E880",
           "#FF97FF",
           "#FECB52"
          ],
          "font": {
           "color": "#2a3f5f"
          },
          "geo": {
           "bgcolor": "white",
           "lakecolor": "white",
           "landcolor": "#E5ECF6",
           "showlakes": true,
           "showland": true,
           "subunitcolor": "white"
          },
          "hoverlabel": {
           "align": "left"
          },
          "hovermode": "closest",
          "mapbox": {
           "style": "light"
          },
          "paper_bgcolor": "white",
          "plot_bgcolor": "#E5ECF6",
          "polar": {
           "angularaxis": {
            "gridcolor": "white",
            "linecolor": "white",
            "ticks": ""
           },
           "bgcolor": "#E5ECF6",
           "radialaxis": {
            "gridcolor": "white",
            "linecolor": "white",
            "ticks": ""
           }
          },
          "scene": {
           "xaxis": {
            "backgroundcolor": "#E5ECF6",
            "gridcolor": "white",
            "gridwidth": 2,
            "linecolor": "white",
            "showbackground": true,
            "ticks": "",
            "zerolinecolor": "white"
           },
           "yaxis": {
            "backgroundcolor": "#E5ECF6",
            "gridcolor": "white",
            "gridwidth": 2,
            "linecolor": "white",
            "showbackground": true,
            "ticks": "",
            "zerolinecolor": "white"
           },
           "zaxis": {
            "backgroundcolor": "#E5ECF6",
            "gridcolor": "white",
            "gridwidth": 2,
            "linecolor": "white",
            "showbackground": true,
            "ticks": "",
            "zerolinecolor": "white"
           }
          },
          "shapedefaults": {
           "line": {
            "color": "#2a3f5f"
           }
          },
          "ternary": {
           "aaxis": {
            "gridcolor": "white",
            "linecolor": "white",
            "ticks": ""
           },
           "baxis": {
            "gridcolor": "white",
            "linecolor": "white",
            "ticks": ""
           },
           "bgcolor": "#E5ECF6",
           "caxis": {
            "gridcolor": "white",
            "linecolor": "white",
            "ticks": ""
           }
          },
          "title": {
           "x": 0.05
          },
          "xaxis": {
           "automargin": true,
           "gridcolor": "white",
           "linecolor": "white",
           "ticks": "",
           "title": {
            "standoff": 15
           },
           "zerolinecolor": "white",
           "zerolinewidth": 2
          },
          "yaxis": {
           "automargin": true,
           "gridcolor": "white",
           "linecolor": "white",
           "ticks": "",
           "title": {
            "standoff": 15
           },
           "zerolinecolor": "white",
           "zerolinewidth": 2
          }
         }
        },
        "title": {
         "text": "Sales Distribution by Product Category"
        }
       }
      }
     },
     "metadata": {},
     "output_type": "display_data"
    }
   ],
   "source": [
    "print(\"\\n--- Generating Sales Analysis by Product Category ---\")\n",
    "category_sales = df.groupby('product_category')['sales'].sum().reset_index()\n",
    "\n",
    "fig_pie_category = px.pie(\n",
    "    category_sales,\n",
    "    names='product_category',\n",
    "    values='sales',\n",
    "    title='Sales Distribution by Product Category',\n",
    "    hole=0.3,\n",
    "    color_discrete_sequence=px.colors.sequential.RdBu\n",
    ")\n",
    "fig_pie_category.update_traces(textposition='inside', textinfo='percent+label')\n",
    "fig_pie_category.update_layout(showlegend=False)\n",
    "fig_pie_category.show()"
   ]
  },
  {
   "cell_type": "markdown",
   "id": "e8a0536d",
   "metadata": {},
   "source": [
    "#### Top 10 Products by Sales"
   ]
  },
  {
   "cell_type": "code",
   "execution_count": 32,
   "id": "0a9cdfee",
   "metadata": {},
   "outputs": [
    {
     "data": {
      "image/png": "[encoded data removed]",
      "text/plain": [
       "<Figure size 1200x800 with 1 Axes>"
      ]
     },
     "metadata": {},
     "output_type": "display_data"
    }
   ],
   "source": [
    "top_10=df.groupby('product_detail')['sales'].sum().sort_values(ascending=False).head(10).reset_index()\n",
    "\n",
    "plt.figure(figsize=(12, 8))\n",
    "sns.barplot(\n",
    "    x='sales',\n",
    "    y='product_detail',\n",
    "    data=top_10,\n",
    "    palette='plasma',\n",
    "    orient='h',\n",
    "    hue='sales',\n",
    "    legend=False\n",
    ")\n",
    "plt.title('Top 10 Products by Sales', fontsize=16)\n",
    "plt.xlabel('Total Sales ($)', fontsize=12)\n",
    "plt.ylabel('Product', fontsize=12)\n",
    "plt.show()"
   ]
  },
  {
   "cell_type": "markdown",
   "id": "96b48a67",
   "metadata": {},
   "source": [
    "#### Sales Analysis by Days and Hours"
   ]
  },
  {
   "cell_type": "code",
   "execution_count": 36,
   "id": "66c10c34",
   "metadata": {},
   "outputs": [
    {
     "data": {
      "image/png": "[encoded data removed]",
      "text/plain": [
       "<Figure size 1800x800 with 2 Axes>"
      ]
     },
     "metadata": {},
     "output_type": "display_data"
    }
   ],
   "source": [
    "day_hour_sales=df.pivot_table(\n",
    "    index='day_of_week',\n",
    "    columns='hour',\n",
    "    values='sales',\n",
    "    aggfunc='sum'\n",
    ")\n",
    "# Order the days of the week correctly\n",
    "day_order=[\"Monday\",\"Tuesday\",\"Wednesday\",\"Thursday\",\"Friday\",\"Saturday\",\"Sunday\"]\n",
    "day_hour_sales=day_hour_sales.reindex(day_order)\n",
    "\n",
    "plt.figure(figsize=(18, 8))\n",
    "sns.heatmap(\n",
    "    day_hour_sales,\n",
    "    cmap='YlGnBu',\n",
    "    annot=False, \n",
    "    fmt=\".0f\"\n",
    ")\n",
    "plt.title('Sales Heatmap by Day of Week and Hour',fontsize=16)\n",
    "plt.xlabel('Hour of Day',fontsize=12)\n",
    "plt.ylabel('Day of Week',fontsize=12)\n",
    "plt.show()"
   ]
  },
  {
   "cell_type": "code",
   "execution_count": null,
   "id": "98bd6291",
   "metadata": {},
   "outputs": [],
   "source": []
  }
 ],
 "metadata": {
  "kernelspec": {
   "display_name": "base",
   "language": "python",
   "name": "python3"
  },
  "language_info": {
   "codemirror_mode": {
    "name": "ipython",
    "version": 3
   },
   "file_extension": ".py",
   "mimetype": "text/x-python",
   "name": "python",
   "nbconvert_exporter": "python",
   "pygments_lexer": "ipython3",
   "version": "3.12.4"
  }
 },
 "nbformat": 4,
 "nbformat_minor": 5
}
